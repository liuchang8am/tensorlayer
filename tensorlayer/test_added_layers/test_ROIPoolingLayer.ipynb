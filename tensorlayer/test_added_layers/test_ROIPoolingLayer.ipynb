{
 "cells": [
  {
   "cell_type": "code",
   "execution_count": 1,
   "metadata": {
    "collapsed": true
   },
   "outputs": [],
   "source": [
    "import tensorflow as tf\n",
    "import tensorlayer as tl\n",
    "import numpy as np"
   ]
  },
  {
   "cell_type": "code",
   "execution_count": 2,
   "metadata": {},
   "outputs": [],
   "source": [
    "input_value = [[\n",
    "    [[1], [2], [4], [4]],\n",
    "    [[3], [4], [1], [2]],\n",
    "    [[6], [2], [1], [7.0]],\n",
    "    [[1], [3], [2], [8]]\n",
    "]]\n",
    "input_value = np.asarray(input_value, dtype='float32')\n",
    "rois_value = [\n",
    "    [0, 0, 0, 1, 1],\n",
    "    [0, 1, 1, 2, 2],\n",
    "    [0, 2, 2, 3, 3],\n",
    "    [0, 0, 0, 2, 2],\n",
    "    [0, 0, 0, 3, 3]\n",
    "]\n",
    "rois_value = np.asarray(rois_value, dtype='int32')\n",
    "pool_height, pool_width = (2, 2)\n",
    "n_rois = len(rois_value)\n",
    "y_shape = [n_rois, 1, pool_height, pool_width]\n",
    "#print('Input: ', input_value, ', shape: ', input_value.shape)\n",
    "#print('ROIs: ', rois_value, ', shape: ', rois_value.shape)"
   ]
  },
  {
   "cell_type": "code",
   "execution_count": 3,
   "metadata": {},
   "outputs": [],
   "source": [
    "inputs = tf.placeholder(tf.float32)\n",
    "rois = tf.placeholder(tf.int32)"
   ]
  },
  {
   "cell_type": "code",
   "execution_count": 4,
   "metadata": {},
   "outputs": [
    {
     "name": "stdout",
     "output_type": "stream",
     "text": [
      "  [TL] InputLayer  input_layer: <unknown>\n",
      "  [TL] ROIPoolingLayer roipooling_layer: (2, 2)\n"
     ]
    }
   ],
   "source": [
    "network = tl.layers.InputLayer(inputs)\n",
    "network = tl.layers.ROIPoolingLayer(network, rois)"
   ]
  },
  {
   "cell_type": "code",
   "execution_count": 5,
   "metadata": {
    "collapsed": true
   },
   "outputs": [],
   "source": [
    "outputs = network.outputs"
   ]
  },
  {
   "cell_type": "code",
   "execution_count": 6,
   "metadata": {
    "collapsed": true
   },
   "outputs": [],
   "source": [
    "sess = tf.InteractiveSession()\n",
    "tl.layers.initialize_global_variables(sess)"
   ]
  },
  {
   "cell_type": "code",
   "execution_count": 8,
   "metadata": {},
   "outputs": [
    {
     "data": {
      "text/plain": [
       "array([[[[ 1.,  2.],\n",
       "         [ 3.,  4.]]],\n",
       "\n",
       "\n",
       "       [[[ 4.,  1.],\n",
       "         [ 2.,  1.]]],\n",
       "\n",
       "\n",
       "       [[[ 1.,  7.],\n",
       "         [ 2.,  8.]]],\n",
       "\n",
       "\n",
       "       [[[ 4.,  4.],\n",
       "         [ 6.,  4.]]],\n",
       "\n",
       "\n",
       "       [[[ 4.,  4.],\n",
       "         [ 6.,  8.]]]], dtype=float32)"
      ]
     },
     "execution_count": 8,
     "metadata": {},
     "output_type": "execute_result"
    }
   ],
   "source": [
    "sess.run(outputs, feed_dict={inputs:input_value, rois:rois_value})"
   ]
  },
  {
   "cell_type": "code",
   "execution_count": null,
   "metadata": {
    "collapsed": true
   },
   "outputs": [],
   "source": []
  }
 ],
 "metadata": {
  "kernelspec": {
   "display_name": "Python 3",
   "language": "python",
   "name": "python3"
  },
  "language_info": {
   "codemirror_mode": {
    "name": "ipython",
    "version": 3
   },
   "file_extension": ".py",
   "mimetype": "text/x-python",
   "name": "python",
   "nbconvert_exporter": "python",
   "pygments_lexer": "ipython3",
   "version": "3.6.1"
  }
 },
 "nbformat": 4,
 "nbformat_minor": 2
}
